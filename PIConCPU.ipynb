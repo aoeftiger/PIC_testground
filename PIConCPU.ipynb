{
 "cells": [
  {
   "cell_type": "code",
   "execution_count": 1,
   "metadata": {},
   "outputs": [],
   "source": [
    "from __future__ import division, print_function\n",
    "\n",
    "import numpy as np\n",
    "np.random.seed(1500000042)\n",
    "\n",
    "from scipy.constants import c, epsilon_0, e, m_p\n",
    "\n",
    "import matplotlib as mpl\n",
    "import matplotlib.pyplot as plt\n",
    "%matplotlib inline\n",
    "\n",
    "import h5py"
   ]
  },
  {
   "cell_type": "code",
   "execution_count": 2,
   "metadata": {},
   "outputs": [],
   "source": [
    "import os\n",
    "os.environ['CUDA_DEVICE'] = '0'\n",
    "\n",
    "from pycuda.autoinit import context\n",
    "from pycuda import gpuarray as gp"
   ]
  },
  {
   "cell_type": "code",
   "execution_count": 3,
   "metadata": {},
   "outputs": [],
   "source": [
    "import sys\n",
    "cwd = os.getcwd()\n",
    "sys.path.append(cwd + '/PyHEADTAIL/')"
   ]
  },
  {
   "cell_type": "code",
   "execution_count": 4,
   "metadata": {},
   "outputs": [
    {
     "name": "stdout",
     "output_type": "stream",
     "text": [
      "PyHEADTAIL v1.12.4\n",
      "\n",
      "\n"
     ]
    }
   ],
   "source": [
    "import PyHEADTAIL"
   ]
  },
  {
   "cell_type": "code",
   "execution_count": 5,
   "metadata": {},
   "outputs": [],
   "source": [
    "import PyPIC.GPU as PyPIC"
   ]
  },
  {
   "cell_type": "code",
   "execution_count": 6,
   "metadata": {},
   "outputs": [
    {
     "name": "stdout",
     "output_type": "stream",
     "text": [
      "PyKLU not found\n"
     ]
    }
   ],
   "source": [
    "from PyHEADTAIL.particles.slicing import UniformBinSlicer\n",
    "from PyHEADTAIL.spacecharge.spacecharge import TransverseGaussianSpaceCharge\n",
    "from PyHEADTAIL.spacecharge.pypic_factory import create_mesh, create_3dmesh_from_beam\n",
    "from PyHEADTAIL.spacecharge.pypic_spacecharge import SpaceChargePIC\n",
    "from PyHEADTAIL.monitors.monitors import ParticleMonitor\n",
    "\n",
    "from PyHEADTAIL.general.printers import SilentPrinter\n",
    "from PyHEADTAIL.general.contextmanager import CPU, GPU"
   ]
  },
  {
   "cell_type": "code",
   "execution_count": 7,
   "metadata": {},
   "outputs": [],
   "source": [
    "contextmanager = CPU"
   ]
  },
  {
   "cell_type": "code",
   "execution_count": 8,
   "metadata": {},
   "outputs": [],
   "source": [
    "from PyCERNmachines.CERNmachines import SPS"
   ]
  },
  {
   "cell_type": "code",
   "execution_count": 9,
   "metadata": {},
   "outputs": [],
   "source": [
    "n_macroparticles = int(1e6)\n",
    "n_slices_sc = 100\n",
    "\n",
    "intensity = 1.3e11\n",
    "epsn_x = epsn_y = 2e-6 # in [m.rad]\n",
    "sigma_z = 0.23 # in [m]"
   ]
  },
  {
   "cell_type": "code",
   "execution_count": 10,
   "metadata": {},
   "outputs": [],
   "source": [
    "def make_machine(n_segments=200):\n",
    "    return SPS(n_segments=n_segments,\n",
    "               machine_configuration='Q20-injection',\n",
    "               optics='smooth',\n",
    "               printer=SilentPrinter(),\n",
    "               Q_x=20.26,\n",
    "               Q_y=20.31,\n",
    "              )\n",
    "\n",
    "def make_beam(machine=make_machine(), n_macroparticles=n_macroparticles):\n",
    "    return machine.generate_6D_Gaussian_bunch_matched(\n",
    "        n_macroparticles, intensity, epsn_x, epsn_y, sigma_z)"
   ]
  },
  {
   "cell_type": "code",
   "execution_count": 11,
   "metadata": {},
   "outputs": [],
   "source": [
    "machine = make_machine()"
   ]
  },
  {
   "cell_type": "code",
   "execution_count": 12,
   "metadata": {},
   "outputs": [
    {
     "name": "stdout",
     "output_type": "stream",
     "text": [
      "*** PyHEADTAIL WARNING! RFBucketMatcher: failed to converge with Brent method, continuing with Newton-Raphson method.\n"
     ]
    }
   ],
   "source": [
    "beam = make_beam(machine=machine, n_macroparticles=n_macroparticles)"
   ]
  },
  {
   "cell_type": "code",
   "execution_count": 13,
   "metadata": {},
   "outputs": [],
   "source": [
    "slicing_interval = machine.longitudinal_map.get_bucket(beam).interval\n",
    "\n",
    "slicer_sc = UniformBinSlicer(n_slices_sc, z_cuts=slicing_interval)"
   ]
  },
  {
   "cell_type": "code",
   "execution_count": 14,
   "metadata": {},
   "outputs": [],
   "source": [
    "from PyPIC.GPU.poisson_solver.FFT_solver import GPUFFTPoissonSolver_2_5D, GPUFFTPoissonSolver\n",
    "from PyPIC.GPU.pypic import PyPIC_GPU, PyPIC\n",
    "\n",
    "# not necessary but nice: memory pool sharing between PyHEADTAIL and PyPIC\n",
    "try:\n",
    "    from PyHEADTAIL.gpu.gpu_utils import memory_pool\n",
    "except:\n",
    "    memory_pool = None"
   ]
  },
  {
   "cell_type": "code",
   "execution_count": 15,
   "metadata": {},
   "outputs": [],
   "source": [
    "# self-consistent PIC solving for space charge\n",
    "n_mesh_nodes_pic = 256\n",
    "n_mesh_sigma_pic = 10"
   ]
  },
  {
   "cell_type": "code",
   "execution_count": 16,
   "metadata": {},
   "outputs": [],
   "source": [
    "mesh_3d = create_3dmesh_from_beam(beam, [n_mesh_nodes_pic]*2, [n_mesh_sigma_pic]*2, \n",
    "                                  slices=beam.get_slices(slicer_sc))"
   ]
  },
  {
   "cell_type": "code",
   "execution_count": 17,
   "metadata": {},
   "outputs": [],
   "source": [
    "assert (machine.optics == 'smooth')\n",
    "sc_integration_length = machine.circumference / len(machine.transverse_map)"
   ]
  },
  {
   "cell_type": "code",
   "execution_count": 18,
   "metadata": {},
   "outputs": [],
   "source": [
    "# poissonsolver = GPUFFTPoissonSolver_2_5D(mesh_3d, context=context, save_memory=False)\n",
    "poissonsolver = GPUFFTPoissonSolver(mesh_3d, context=context)\n",
    "pypic_algorithm = PyPIC_GPU(mesh_3d, poissonsolver, context=context, \n",
    "                            memory_pool=memory_pool)\n",
    "pic_sc_node = SpaceChargePIC(sc_integration_length, pypic_algorithm)"
   ]
  },
  {
   "cell_type": "code",
   "execution_count": 20,
   "metadata": {},
   "outputs": [
    {
     "name": "stdout",
     "output_type": "stream",
     "text": [
      " "
     ]
    }
   ],
   "source": [
    "with GPU(beam):\n",
    "    routput = %%prun -r pic_sc_node.track(beam)"
   ]
  },
  {
   "cell_type": "code",
   "execution_count": 21,
   "metadata": {},
   "outputs": [
    {
     "name": "stdout",
     "output_type": "stream",
     "text": [
      "         880 function calls (878 primitive calls) in 0.052 seconds\n",
      "\n",
      "   Ordered by: cumulative time\n",
      "   List reduced from 85 to 40 due to restriction <40>\n",
      "\n",
      "   ncalls  tottime  percall  cumtime  percall filename:lineno(function)\n",
      "        1    0.000    0.000    0.052    0.052 <string>:1(<module>)\n",
      "        1    0.000    0.000    0.052    0.052 pypic_spacecharge.py:82(track)\n",
      "        1    0.002    0.002    0.051    0.051 pypic.py:675(pic_solve)\n",
      "        1    0.000    0.000    0.046    0.046 pypic.py:536(poisson_solve)\n",
      "        1    0.044    0.044    0.046    0.046 FFT_solver.py:155(poisson_solve)\n",
      "        9    0.000    0.000    0.002    0.000 contextmanager.py:82(_patch_binop)\n",
      "        6    0.000    0.000    0.002    0.000 gpuarray.py:485(__mul__)\n",
      "        1    0.000    0.000    0.002    0.002 pypic.py:549(get_electric_fields)\n",
      "       19    0.002    0.000    0.002    0.000 gpuarray.py:162(__init__)\n",
      "        1    0.002    0.002    0.002    0.002 gradient.py:57(_gradient)\n",
      "       12    0.000    0.000    0.002    0.000 gpuarray.py:412(_new_like_me)\n",
      "        1    0.001    0.001    0.001    0.001 pypic.py:384(particles_to_mesh)\n",
      "       12    0.000    0.000    0.001    0.000 gpuarray.py:351(_axpbz)\n",
      "       20    0.000    0.000    0.000    0.000 driver.py:493(function_prepared_async_call)\n",
      "       27    0.000    0.000    0.000    0.000 __init__.py:589(wrapper)\n",
      "       13    0.000    0.000    0.000    0.000 gpuarray.py:225(flags)\n",
      "       13    0.000    0.000    0.000    0.000 array.py:68(__init__)\n",
      "        3    0.000    0.000    0.000    0.000 gpuarray.py:503(__div__)\n",
      "        1    0.000    0.000    0.000    0.000 particles.py:107(z_beamframe)\n",
      "        9    0.000    0.000    0.000    0.000 gpuarray.py:19(_get_common_dtype)\n",
      "        4    0.000    0.000    0.000    0.000 contextmanager.py:57(_patch)\n",
      "        1    0.000    0.000    0.000    0.000 gpuarray.py:961(real)\n",
      "        3    0.000    0.000    0.000    0.000 gpuarray.py:740(reshape)\n",
      "       13    0.000    0.000    0.000    0.000 array.py:63(is_c_contiguous_strides)\n",
      "        2    0.000    0.000    0.000    0.000 fft.py:169(_fft)\n",
      "       26    0.000    0.000    0.000    0.000 array.py:48(equal_strides)\n",
      "        1    0.000    0.000    0.000    0.000 gpuarray.py:723(astype)\n",
      "        9    0.000    0.000    0.000    0.000 array.py:76(get_common_dtype)\n",
      "        1    0.000    0.000    0.000    0.000 pypic.py:613(field_to_particles)\n",
      "       13    0.000    0.000    0.000    0.000 array.py:59(is_f_contiguous_strides)\n",
      "        1    0.000    0.000    0.000    0.000 gpuarray.py:1064(zeros)\n",
      "        2    0.000    0.000    0.000    0.000 cufft.py:368(cufftExecZ2Z)\n",
      "        3    0.000    0.000    0.000    0.000 gpuarray.py:469(__iadd__)\n",
      "        1    0.000    0.000    0.000    0.000 fft.py:220(fft)\n",
      "       20    0.000    0.000    0.000    0.000 tools.py:414(context_dependent_memoize)\n",
      "        3    0.000    0.000    0.000    0.000 gpuarray.py:330(_axpbyz)\n",
      "        3    0.000    0.000    0.000    0.000 driver.py:366(function_call)\n",
      "       22    0.000    0.000    0.000    0.000 array.py:38(c_contiguous_strides)\n",
      "        2    0.000    0.000    0.000    0.000 gpuarray.py:532(__idiv__)\n",
      "        2    0.000    0.000    0.000    0.000 gpuarray.py:547(fill)\n",
      "\n",
      "\n"
     ]
    },
    {
     "data": {
      "text/plain": [
       "<pstats.Stats instance at 0x7f63fa058f38>"
      ]
     },
     "execution_count": 21,
     "metadata": {},
     "output_type": "execute_result"
    }
   ],
   "source": [
    "routput.sort_stats(2).print_stats(40)"
   ]
  },
  {
   "cell_type": "code",
   "execution_count": 22,
   "metadata": {},
   "outputs": [],
   "source": [
    "%load_ext line_profiler"
   ]
  },
  {
   "cell_type": "code",
   "execution_count": 23,
   "metadata": {},
   "outputs": [],
   "source": [
    "with GPU(beam):\n",
    "    lproutput = %%lprun -r -f pic_sc_node.pypic.pic_solve pic_sc_node.track(beam)"
   ]
  },
  {
   "cell_type": "code",
   "execution_count": 24,
   "metadata": {},
   "outputs": [
    {
     "name": "stdout",
     "output_type": "stream",
     "text": [
      "Timer unit: 1e-06 s\n",
      "\n",
      "Total time: 0.052965 s\n",
      "File: PyPIC/GPU/pypic.py\n",
      "Function: pic_solve at line 675\n",
      "\n",
      "Line #      Hits         Time  Per Hit   % Time  Line Contents\n",
      "==============================================================\n",
      "   675                                               def pic_solve(self, *mp_coords, **kwargs):\n",
      "   676                                                   '''Encapsulates the whole algorithm to determine the\n",
      "   677                                                   fields of the particles on themselves.\n",
      "   678                                                   The keyword argument charge=e is the charge per macro-particle.\n",
      "   679                                                   Further keyword arguments are\n",
      "   680                                                   mesh_indices=None, mesh_distances=None, mesh_weights=None .\n",
      "   681                                           \n",
      "   682                                                   The optional keyword arguments lower_bounds=False and\n",
      "   683                                                   upper_bounds=False trigger the use of sorted_particles_to_mesh\n",
      "   684                                                   which assumes the particles to be sorted by the node ids of the\n",
      "   685                                                   mesh. (see further info there.)\n",
      "   686                                                   This results in particle deposition to be 3.5x quicker and\n",
      "   687                                                   mesh to particle interpolation to be 0.25x quicker.\n",
      "   688                                                   (Timing for 1e6 particles and a 64x64x32 mesh includes sorting.)\n",
      "   689                                           \n",
      "   690                                                   The optional keyword argument state=None gets rho, phi and\n",
      "   691                                                   mesh_e_fields assigned as members if provided.\n",
      "   692                                           \n",
      "   693                                                   Return as many interpolated fields per particle as\n",
      "   694                                                   dimensions in mp_coords are given.\n",
      "   695                                                   '''\n",
      "   696         1            2      2.0      0.0          charge = kwargs.pop(\"charge\", e)\n",
      "   697         1            1      1.0      0.0          if not self.optimize_meshing_memory:\n",
      "   698                                                       kwargs[\"mesh_indices\"], kwargs[\"mesh_weights\"] = \\\n",
      "   699                                                           self.get_meshing(kwargs, *mp_coords)\n",
      "   700                                           \n",
      "   701         1            1      1.0      0.0          lower_bounds = kwargs.pop('lower_bounds', None)\n",
      "   702         1            1      1.0      0.0          upper_bounds = kwargs.pop('upper_bounds', None)\n",
      "   703                                           \n",
      "   704         1            0      0.0      0.0          state = kwargs.pop('state', None)\n",
      "   705                                           \n",
      "   706         1            1      1.0      0.0          if lower_bounds is not None and upper_bounds is not None:\n",
      "   707                                                       mesh_charges = self.sorted_particles_to_mesh(\n",
      "   708                                                           *mp_coords, charge=charge,\n",
      "   709                                                           lower_bounds=lower_bounds, upper_bounds=upper_bounds\n",
      "   710                                                       )\n",
      "   711                                                   else: # particle arrays are not sorted by mesh node ids\n",
      "   712         1            1      1.0      0.0              mesh_charges = self.particles_to_mesh(\n",
      "   713         1          894    894.0      1.7                  *mp_coords, charge=charge, **kwargs\n",
      "   714                                                       )\n",
      "   715         1          139    139.0      0.3          rho = mesh_charges / self.mesh.volume_elem\n",
      "   716         1            4      4.0      0.0          if getattr(self.poissonsolver, 'is_25D', False):\n",
      "   717                                                       rho *= self.mesh.dz\n",
      "   718         1            1      1.0      0.0          if state: state.rho = rho.copy()\n",
      "   719                                           \n",
      "   720         1        48153  48153.0     90.9          phi = self.poisson_solve(rho)\n",
      "   721         1            1      1.0      0.0          if state: state.phi = phi\n",
      "   722                                           \n",
      "   723         1         1974   1974.0      3.7          mesh_e_fields = self.get_electric_fields(phi)\n",
      "   724         1            5      5.0      0.0          self._context.synchronize()\n",
      "   725         1            1      1.0      0.0          if state: state.mesh_e_fields = mesh_e_fields\n",
      "   726                                           \n",
      "   727         1            3      3.0      0.0          mesh_fields_and_mp_coords = zip(list(mesh_e_fields), list(mp_coords))\n",
      "   728         1          175    175.0      0.3          fields = self.field_to_particles(*mesh_fields_and_mp_coords, **kwargs)\n",
      "   729         1         1607   1607.0      3.0          self._context.synchronize()\n",
      "   730         1            1      1.0      0.0          return fields\n",
      "\n"
     ]
    }
   ],
   "source": [
    "lproutput.print_stats()"
   ]
  },
  {
   "cell_type": "code",
   "execution_count": 25,
   "metadata": {},
   "outputs": [],
   "source": [
    "with GPU(beam):\n",
    "    lproutput = %%lprun -r -f pic_sc_node.pypic.poissonsolver.poisson_solve pic_sc_node.track(beam)"
   ]
  },
  {
   "cell_type": "code",
   "execution_count": 26,
   "metadata": {},
   "outputs": [
    {
     "name": "stdout",
     "output_type": "stream",
     "text": [
      "Timer unit: 1e-06 s\n",
      "\n",
      "Total time: 0.048126 s\n",
      "File: PyPIC/GPU/poisson_solver/FFT_solver.py\n",
      "Function: poisson_solve at line 155\n",
      "\n",
      "Line #      Hits         Time  Per Hit   % Time  Line Contents\n",
      "==============================================================\n",
      "   155                                               def poisson_solve(self, rho):\n",
      "   156                                                   ''' Solve the poisson equation with the given charge distribution\n",
      "   157                                                   Args:\n",
      "   158                                                       rho: Charge distribution (same dimensions as mesh)\n",
      "   159                                                   Returns:\n",
      "   160                                                       Phi (same dimensions as rho)\n",
      "   161                                                   '''\n",
      "   162         1          114    114.0      0.2          rho = rho.astype(np.complex128)\n",
      "   163         1            6      6.0      0.0          self._cpyrho2tmp.set_src_device(rho.gpudata)\n",
      "   164         1            3      3.0      0.0          self._cpytmp2rho.set_dst_device(rho.gpudata)\n",
      "   165                                                   # set to 0 since it might be filled with the old potential\n",
      "   166         1           30     30.0      0.1          self.tmpspace.fill(0)\n",
      "   167         1           20     20.0      0.0          self._cpyrho2tmp()\n",
      "   168         1           87     87.0      0.2          cu_fft.fft(self.tmpspace, self.tmpspace, plan=self.plan_forward)\n",
      "   169         1         1647   1647.0      3.4          cu_fft.ifft(self.tmpspace * self.fgreentr, self.tmpspace,\n",
      "   170         1        45831  45831.0     95.2                      plan=self.plan_backward)\n",
      "   171                                                   # store the result in the rho gpuarray to save space\n",
      "   172         1           18     18.0      0.0          self._cpytmp2rho()\n",
      "   173                                                   # scale (cuFFT is unscaled)\n",
      "   174         1          292    292.0      0.6          phi = rho.real/(2**self.mesh.dimension * self.mesh.n_nodes)\n",
      "   175         1           78     78.0      0.2          phi *= self.mesh.volume_elem/(2**(self.mesh.dimension-1)*np.pi*epsilon_0)\n",
      "   176         1            0      0.0      0.0          return phi\n",
      "\n"
     ]
    }
   ],
   "source": [
    "lproutput.print_stats()"
   ]
  },
  {
   "cell_type": "code",
   "execution_count": 27,
   "metadata": {},
   "outputs": [],
   "source": [
    "from PyPIC.GPU.poisson_solver.FFT_solver import GPUFFTPoissonSolver"
   ]
  },
  {
   "cell_type": "code",
   "execution_count": 28,
   "metadata": {},
   "outputs": [],
   "source": [
    "from scipy.constants import epsilon_0"
   ]
  },
  {
   "cell_type": "code",
   "execution_count": 22,
   "metadata": {},
   "outputs": [],
   "source": [
    "# import pyfftw\n",
    "\n",
    "# pyfftw.FFTW()"
   ]
  },
  {
   "cell_type": "code",
   "execution_count": 29,
   "metadata": {},
   "outputs": [],
   "source": [
    "# try:\n",
    "#     import pyfftw\n",
    "    \n",
    "# except ImportError:\n",
    "#     cpu_fft = np.fft.fft\n",
    "#     cpu_ifft = np.fft.ifft\n",
    "\n",
    "class FFTPoissonSolver(GPUFFTPoissonSolver):\n",
    "    '''CPU version of GPUFFTPoissonSolver.'''\n",
    "    def __init__(self, mesh):\n",
    "        self.mesh = mesh\n",
    "\n",
    "        # dimensionality function dispatch\n",
    "        dim = mesh.dimension\n",
    "        self._fgreen = getattr(super(FFTPoissonSolver, self), '_fgreen' + str(dim) + 'd')\n",
    "        self._mirror = getattr(super(FFTPoissonSolver, self), '_mirror' + str(dim) + 'd')\n",
    "        \n",
    "        self.setup_mesh(mesh)\n",
    "        \n",
    "        mesh_shape2 = [2*n for n in mesh.shape] # (2*nz,) 2*ny, 2*nx\n",
    "        self.tmpspace = np.zeros(mesh_shape2, dtype=np.complex128)\n",
    "        \n",
    "        if dim == 2:\n",
    "            self._slice_window = np.s_[:mesh.ny, :mesh.nx]\n",
    "        elif dim == 3:\n",
    "            self._slice_window = np.s_[:mesh.nz, :mesh.ny, :mesh.nx]\n",
    "        else:\n",
    "            raise NotImplementedError(\n",
    "                'Only mesh of dimension 2 and 3 are implemented.')\n",
    "\n",
    "    def setup_mesh(self, mesh):\n",
    "        assert (mesh.shape == self.mesh.shape)\n",
    "        self.mesh = mesh\n",
    "        mesh_arr = [\n",
    "            -mesh.distances[i]/2 +\n",
    "            np.arange(mesh.shape_r[i] + 1.) * mesh.distances[i]\n",
    "            for i in reversed(xrange(mesh.dimension))\n",
    "           ]\n",
    "        # mesh_arr is [mz, my, mx]\n",
    "        mesh_grids = np.meshgrid(*mesh_arr, indexing='ij')\n",
    "        fgreen = self._fgreen(*mesh_grids)\n",
    "        fgreen = self._mirror(fgreen)\n",
    "        self.fgreentr = np.fft.fft(fgreen)\n",
    "\n",
    "    def poisson_solve(self, rho):\n",
    "        ''' Solve the poisson equation with the given charge distribution\n",
    "        Args:\n",
    "            rho: Charge distribution (same dimensions as mesh)\n",
    "        Returns:\n",
    "            Phi (same dimensions as rho)\n",
    "        '''\n",
    "#         rho = rho.astype(np.complex128)\n",
    "#         cpu_fft(self.tmpspace, self.tmpspace, plan=self.plan_forward)\n",
    "#         cpu_ifft(self.tmpspace * self.fgreentr, self.tmpspace,\n",
    "#                  plan=self.plan_backward)\n",
    "        self.tmpspace.fill(0)\n",
    "        self.tmpspace[self._slice_window] = rho\n",
    "        phi = np.fft.ifft(np.fft.fft(self.tmpspace) * self.fgreentr)[self._slice_window]\n",
    "        phi = phi.real\n",
    "#         # scale (cuFFT is unscaled)\n",
    "#         phi = rho.real/(2**self.mesh.dimension * self.mesh.n_nodes)\n",
    "        phi *= self.mesh.volume_elem/(2**(self.mesh.dimension-1)*np.pi*epsilon_0)\n",
    "        return phi"
   ]
  },
  {
   "cell_type": "code",
   "execution_count": 30,
   "metadata": {},
   "outputs": [],
   "source": [
    "cpu_poisson_solver = FFTPoissonSolver(mesh_3d)"
   ]
  },
  {
   "cell_type": "code",
   "execution_count": 31,
   "metadata": {},
   "outputs": [],
   "source": [
    "cpu_pypic_algorithm = PyPIC(mesh_3d, cpu_poisson_solver)\n",
    "cpu_pic_sc_node = SpaceChargePIC(sc_integration_length, cpu_pypic_algorithm)"
   ]
  },
  {
   "cell_type": "code",
   "execution_count": 30,
   "metadata": {},
   "outputs": [
    {
     "name": "stdout",
     "output_type": "stream",
     "text": [
      " "
     ]
    }
   ],
   "source": [
    "with CPU(beam):\n",
    "    routput_cpu = %%prun -r cpu_pic_sc_node.track(beam)"
   ]
  },
  {
   "cell_type": "code",
   "execution_count": 31,
   "metadata": {},
   "outputs": [
    {
     "name": "stdout",
     "output_type": "stream",
     "text": [
      "         3000272 function calls in 176.545 seconds\n",
      "\n",
      "   Ordered by: cumulative time\n",
      "   List reduced from 63 to 20 due to restriction <20>\n",
      "\n",
      "   ncalls  tottime  percall  cumtime  percall filename:lineno(function)\n",
      "        1    0.008    0.008  176.545  176.545 <string>:1(<module>)\n",
      "        1    0.046    0.046  176.537  176.537 pypic_spacecharge.py:82(track)\n",
      "        1    0.015    0.015  176.490  176.490 pypic.py:172(pic_solve)\n",
      "        1    0.010    0.010  129.350  129.350 pypic.py:88(particles_to_mesh)\n",
      "        1  129.061  129.061  129.075  129.075 p2m.py:8(particles_to_mesh_CPU_3d)\n",
      "        1    0.000    0.000   46.608   46.608 pypic.py:140(field_to_particles)\n",
      "        3    0.000    0.000   46.407   15.469 pypic.py:123(mesh_to_particles)\n",
      "        3    0.431    0.144   45.830   15.277 m2p.py:8(mesh_to_particles_CPU_3d)\n",
      "        3    0.024    0.008   45.281   15.094 function_base.py:1944(__call__)\n",
      "        3    1.849    0.616   45.257   15.086 function_base.py:2035(_vectorize_call)\n",
      "  3000003   43.271    0.000   43.271    0.000 m2p.py:15(check_outside)\n",
      "        5    0.011    0.002    1.043    0.209 pypic.py:74(get_meshing)\n",
      "        5    0.768    0.154    0.815    0.163 meshes.py:241(get_weights)\n",
      "        1    0.000    0.000    0.441    0.441 pypic.py:108(poisson_solve)\n",
      "        1    0.274    0.274    0.441    0.441 <ipython-input-26-edcac8237c54>:45(poisson_solve)\n",
      "        5    0.172    0.034    0.217    0.043 meshes.py:197(get_indices)\n",
      "       32    0.137    0.004    0.137    0.004 {numpy.core.multiarray.array}\n",
      "        3    0.000    0.000    0.119    0.040 {map}\n",
      "       24    0.118    0.005    0.118    0.005 m2p.py:24(<lambda>)\n",
      "        1    0.101    0.101    0.101    0.101 {method 'fill' of 'numpy.ndarray' objects}\n",
      "\n",
      "\n"
     ]
    },
    {
     "data": {
      "text/plain": [
       "<pstats.Stats instance at 0x7f2ee81a71b8>"
      ]
     },
     "execution_count": 31,
     "metadata": {},
     "output_type": "execute_result"
    }
   ],
   "source": [
    "routput_cpu.sort_stats(2).print_stats(20)"
   ]
  },
  {
   "cell_type": "markdown",
   "metadata": {},
   "source": [
    "### improving p2m and m2p on CPU"
   ]
  },
  {
   "cell_type": "code",
   "execution_count": 36,
   "metadata": {},
   "outputs": [],
   "source": [
    "with open('p2m_cpu.c', 'wt') as fh:\n",
    "    fh.write('''\n",
    "#include <math.h>\n",
    "\n",
    "void p2m_rectmesh3d_64atomics(\n",
    "        // INPUTS:\n",
    "          // length of x, y, z arrays\n",
    "        const int nparticles,\n",
    "          // particle positions\n",
    "        double* x, double* y, double* z,\n",
    "          // mesh origin\n",
    "        const double x0, const double y0, const double z0,\n",
    "          // mesh distances per cell\n",
    "        const double dx, const double dy, const double dz,\n",
    "          // mesh dimension (number of cells)\n",
    "        const int nx, const int ny, const int nz,\n",
    "        // OUTPUTS:\n",
    "        double *grid1d\n",
    ") {\n",
    "    int jx, ix, kx;\n",
    "    double dxi, dyi, dzi, wijk, wi1jk, wij1k, wi1j1k, wijk1, wi1jk1, wij1k1, wi1j1k1;\n",
    "    for (int pidx = 0; pidx < nparticles; pidx++)\n",
    "    {\n",
    "        // indices\n",
    "        jx = floor((x[pidx] - x0) / dx);\n",
    "        ix = floor((y[pidx] - y0) / dy);\n",
    "        kx = floor((z[pidx] - z0) / dz);\n",
    "\n",
    "        // distances\n",
    "        dxi = x[pidx] - (x0 + jx * dx);\n",
    "        dyi = y[pidx] - (y0 + ix * dy);\n",
    "        dzi = z[pidx] - (z0 + kx * dz);\n",
    "\n",
    "        // weights\n",
    "        wijk =    (1.-dxi/dx)*(1.-dyi/dy)*(1.-dzi/dz);\n",
    "        wi1jk =   (1.-dxi/dx)*(dyi/dy)   *(1.-dzi/dz);\n",
    "        wij1k =   (dxi/dx)   *(1.-dyi/dy)*(1.-dzi/dz);\n",
    "        wi1j1k =  (dxi/dx)   *(dyi/dy)   *(1.-dzi/dz);\n",
    "        wijk1 =   (1.-dxi/dx)*(1.-dyi/dy)*(dzi/dz);\n",
    "        wi1jk1 =  (1.-dxi/dx)*(dyi/dy)   *(dzi/dz);\n",
    "        wij1k1 =  (dxi/dx)   *(1.-dyi/dy)*(dzi/dz);\n",
    "        wi1j1k1 = (dxi/dx)   *(dyi/dy)   *(dzi/dz);\n",
    "\n",
    "        if (jx >= 0 && jx < nx - 1 && ix >= 0 && ix < ny - 1 && kx >= 0 && kx < nz - 1)\n",
    "        {\n",
    "            grid1d[jx   + ix*nx     + kx*nx*ny]     += wijk;\n",
    "            grid1d[jx+1 + ix*nx     + kx*nx*ny]     += wij1k;\n",
    "            grid1d[jx   + (ix+1)*nx + kx*nx*ny]     += wi1jk;\n",
    "            grid1d[jx+1 + (ix+1)*nx + kx*nx*ny]     += wi1j1k;\n",
    "            grid1d[jx   + ix*nx     + (kx+1)*nx*ny] += wijk1;\n",
    "            grid1d[jx+1 + ix*nx     + (kx+1)*nx*ny] += wij1k1;\n",
    "            grid1d[jx   + (ix+1)*nx + (kx+1)*nx*ny] += wi1jk1;\n",
    "            grid1d[jx+1 + (ix+1)*nx + (kx+1)*nx*ny] += wi1j1k1;\n",
    "        }\n",
    "    }\n",
    "}\n",
    "\n",
    "void p2m_rectmesh2d_64atomics(\n",
    "        // INPUTS:\n",
    "          // length of x, y arrays\n",
    "        const int nparticles,\n",
    "          // particle positions\n",
    "        double* x, double* y,\n",
    "          // mesh origin\n",
    "        const double x0, const double y0,\n",
    "          // mesh distances per cell\n",
    "        const double dx, const double dy,\n",
    "          // mesh dimension (number of cells)\n",
    "        const int nx, const int ny,\n",
    "        // OUTPUTS:\n",
    "        double *grid1d\n",
    ") {\n",
    "    int jx, ix;\n",
    "    double dxi, dyi, wij, wi1j, wij1, wi1j1;\n",
    "    for (int pidx = 0; pidx < nparticles; pidx++)\n",
    "    {\n",
    "        // indices\n",
    "        jx = floor((x[pidx] - x0) / dx);\n",
    "        ix = floor((y[pidx] - y0) / dy);\n",
    "\n",
    "        // distances\n",
    "        dxi = x[pidx] - (x0 + jx * dx);\n",
    "        dyi = y[pidx] - (y0 + ix * dy);\n",
    "\n",
    "        // weights\n",
    "        wij =    (1.-dxi/dx)*(1.-dyi/dy);\n",
    "        wi1j =   (1.-dxi/dx)*(dyi/dy)   ;\n",
    "        wij1 =   (dxi/dx)   *(1.-dyi/dy);\n",
    "        wi1j1 =  (dxi/dx)   *(dyi/dy)   ;\n",
    "\n",
    "        if (jx >= 0 && jx < nx - 1 && ix >= 0 && ix < ny - 1)\n",
    "        {\n",
    "            grid1d[jx + ix*nx]       += wij;\n",
    "            grid1d[jx+1 + ix*nx]     += wij1;\n",
    "            grid1d[jx + (ix+1)*nx]   += wi1j;\n",
    "            grid1d[jx+1 + (ix+1)*nx] += wi1j1;\n",
    "        }\n",
    "    }\n",
    "}\n",
    "''')"
   ]
  },
  {
   "cell_type": "code",
   "execution_count": 37,
   "metadata": {},
   "outputs": [],
   "source": [
    "!gcc -std=c99 -O3 -fPIC -shared -o p2m_cpu.so p2m_cpu.c -lm"
   ]
  },
  {
   "cell_type": "code",
   "execution_count": 38,
   "metadata": {},
   "outputs": [],
   "source": [
    "import ctypes\n",
    "\n",
    "from numpy.ctypeslib import ndpointer\n",
    "np_double_p = ndpointer(dtype=np.float64)"
   ]
  },
  {
   "cell_type": "code",
   "execution_count": 39,
   "metadata": {},
   "outputs": [],
   "source": [
    "p2m_dll = ctypes.cdll.LoadLibrary('./p2m_cpu.so')\n",
    "\n",
    "p2m_dll.p2m_rectmesh3d_64atomics.restype = None\n",
    "p2m_dll.p2m_rectmesh3d_64atomics.argtypes = [\n",
    "    ctypes.c_int, \n",
    "    np_double_p, np_double_p, np_double_p,\n",
    "    ctypes.c_double, ctypes.c_double, ctypes.c_double, \n",
    "    ctypes.c_double, ctypes.c_double, ctypes.c_double, \n",
    "    ctypes.c_int, ctypes.c_int, ctypes.c_int,\n",
    "    np_double_p, \n",
    "]\n",
    "\n",
    "p2m_dll.p2m_rectmesh2d_64atomics.restype = None\n",
    "p2m_dll.p2m_rectmesh2d_64atomics.argtypes = [\n",
    "    ctypes.c_int, \n",
    "    np_double_p, np_double_p,\n",
    "    ctypes.c_double, ctypes.c_double,\n",
    "    ctypes.c_double, ctypes.c_double,\n",
    "    ctypes.c_int, ctypes.c_int,\n",
    "    np_double_p, \n",
    "]"
   ]
  },
  {
   "cell_type": "code",
   "execution_count": 40,
   "metadata": {},
   "outputs": [],
   "source": [
    "def p2m_cpu(self, *mp_coords, **kwargs):\n",
    "    charge = kwargs.get(\"charge\", e)\n",
    "    \n",
    "    mesh_count = np.zeros(self.mesh.shape, dtype=float).flatten()\n",
    "    \n",
    "    if \"RectMesh\" in str(self.mesh.__class__) and \\\n",
    "            self.mesh.dimension in [2,3]:\n",
    "        p2m_fct = getattr(\n",
    "            p2m_dll, 'p2m_rectmesh' + str(self.mesh.dimension) + 'd_64atomics')\n",
    "        args = [ctypes.c_int(len(mp_coords[0]))]\n",
    "        args += mp_coords\n",
    "        args += list(map(ctypes.c_double, self.mesh.origin))\n",
    "        args += list(map(ctypes.c_double, self.mesh.distances))\n",
    "        args += list(map(ctypes.c_int, self.mesh.shape_r))\n",
    "        args += [mesh_count]\n",
    "\n",
    "        p2m_fct(*args)\n",
    "    else:\n",
    "        raise NotImplementedError('Only 2/3D rectangular meshes for now..')\n",
    "    \n",
    "    mesh_count = mesh_count.reshape(self.mesh.shape)\n",
    "    return mesh_count * charge"
   ]
  },
  {
   "cell_type": "code",
   "execution_count": 41,
   "metadata": {},
   "outputs": [],
   "source": [
    "res = p2m_cpu(cpu_pypic_algorithm, beam.x, beam.y, beam.z)"
   ]
  },
  {
   "cell_type": "code",
   "execution_count": 42,
   "metadata": {},
   "outputs": [],
   "source": [
    "with GPU(beam):\n",
    "    res2 = pypic_algorithm.particles_to_mesh(beam.x, beam.y, beam.z)"
   ]
  },
  {
   "cell_type": "markdown",
   "metadata": {},
   "source": [
    "relative error:"
   ]
  },
  {
   "cell_type": "code",
   "execution_count": 43,
   "metadata": {},
   "outputs": [
    {
     "data": {
      "text/plain": [
       "2.5175457539149297e-06"
      ]
     },
     "execution_count": 43,
     "metadata": {},
     "output_type": "execute_result"
    }
   ],
   "source": [
    "np.max((res - res2.get())/e) / np.max(res/e)"
   ]
  },
  {
   "cell_type": "code",
   "execution_count": 44,
   "metadata": {},
   "outputs": [],
   "source": [
    "with open('m2p_cpu.c', 'wt') as fh:\n",
    "    fh.write('''\n",
    "#include <math.h>\n",
    "\n",
    "void m2p_rectmesh2d_scalar(\n",
    "    // INPUTS:\n",
    "      // length of x, y arrays\n",
    "    const int nparticles,\n",
    "      // particle positions\n",
    "    double* x, double* y,\n",
    "      // mesh origin\n",
    "    const double x0, const double y0,\n",
    "      // mesh distances per cell\n",
    "    const double dx, const double dy,\n",
    "      // mesh dimension (number of cells)\n",
    "    const int nx, const int ny,\n",
    "      // scalar field defined over mesh\n",
    "    double *mesh_quantity,\n",
    "    // OUTPUTS:\n",
    "    double* particles_quantity\n",
    ") {\n",
    "    int jx, ix;\n",
    "    double dxi, dyi, wij, wi1j, wij1, wi1j1;\n",
    "    for (int pidx = 0; pidx < nparticles; pidx++)\n",
    "    {\n",
    "        // indices\n",
    "        jx = floor((x[pidx] - x0) / dx);\n",
    "        ix = floor((y[pidx] - y0) / dy);\n",
    "\n",
    "        // distances\n",
    "        dxi = x[pidx] - (x0 + jx * dx);\n",
    "        dyi = y[pidx] - (y0 + ix * dy);\n",
    "\n",
    "        // weights\n",
    "        wij =    (1.-dxi/dx)*(1.-dyi/dy);\n",
    "        wi1j =   (1.-dxi/dx)*(dyi/dy)   ;\n",
    "        wij1 =   (dxi/dx)   *(1.-dyi/dy);\n",
    "        wi1j1 =  (dxi/dx)   *(dyi/dy)   ;\n",
    "\n",
    "        if (jx >= 0 && jx < nx - 1 && ix >= 0 && ix < ny - 1)\n",
    "        {\n",
    "            particles_quantity[pidx] = ( wij   * mesh_quantity[jx   + ix*nx]\n",
    "                                       + wij1  * mesh_quantity[jx+1 + ix*nx]\n",
    "                                       + wi1j  * mesh_quantity[jx+  + (ix+1)*nx]\n",
    "                                       + wi1j1 * mesh_quantity[jx+1 + (ix+1)*nx]);\n",
    "        } else {\n",
    "            particles_quantity[pidx] = 0;\n",
    "        }\n",
    "    }\n",
    "}\n",
    "\n",
    "void m2p_rectmesh2d_vector(\n",
    "    // INPUTS:\n",
    "      // length of x, y arrays\n",
    "    const int nparticles,\n",
    "      // particle positions\n",
    "    double* x, double* y,\n",
    "      // mesh origin\n",
    "    const double x0, const double y0,\n",
    "      // mesh distances per cell\n",
    "    const double dx, const double dy,\n",
    "      // mesh dimension (number of cells)\n",
    "    const int nx, const int ny,\n",
    "      // field vector components defined over mesh\n",
    "    double* fieldx, double* fieldy,\n",
    "    // OUTPUTS:\n",
    "    double* forcex, double* forcey\n",
    ") {\n",
    "    int jx, ix;\n",
    "    double dxi, dyi, wij, wi1j, wij1, wi1j1;\n",
    "    for (int pidx = 0; pidx < nparticles; pidx++)\n",
    "    {\n",
    "        // indices\n",
    "        jx = floor((x[pidx] - x0) / dx);\n",
    "        ix = floor((y[pidx] - y0) / dy);\n",
    "\n",
    "        // distances\n",
    "        dxi = x[pidx] - (x0 + jx * dx);\n",
    "        dyi = y[pidx] - (y0 + ix * dy);\n",
    "\n",
    "        // weights\n",
    "        wij =    (1.-dxi/dx)*(1.-dyi/dy);\n",
    "        wi1j =   (1.-dxi/dx)*(dyi/dy)   ;\n",
    "        wij1 =   (dxi/dx)   *(1.-dyi/dy);\n",
    "        wi1j1 =  (dxi/dx)   *(dyi/dy)   ;\n",
    "\n",
    "        if (jx >= 0 && jx < nx - 1 && ix >= 0 && ix < ny - 1)\n",
    "        {\n",
    "            forcex[pidx] =    ( wij *  fieldx[jx + ix*nx]\n",
    "                              + wij1 * fieldx[jx+1 + ix*nx]\n",
    "                              + wi1j * fieldx[jx + (ix+1)*nx]\n",
    "                              + wi1j1 *fieldx[jx+1 + (ix+1)*nx]);\n",
    "            forcey[pidx] =    ( wij *  fieldy[jx + ix*nx]\n",
    "                              + wij1 * fieldy[jx+1 + ix*nx]\n",
    "                              + wi1j * fieldy[jx + (ix+1)*nx]\n",
    "                              + wi1j1 *fieldy[jx+1 + (ix+1)*nx]);\n",
    "        } else {\n",
    "            forcex[pidx] = 0;\n",
    "            forcey[pidx] = 0;\n",
    "        }\n",
    "    }\n",
    "}\n",
    "\n",
    "\n",
    "// RectMesh3D variants\n",
    "\n",
    "void m2p_rectmesh3d_scalar(\n",
    "    // INPUTS:\n",
    "      // length of x, y, z arrays\n",
    "    const int nparticles,\n",
    "      // particle positions\n",
    "    double* x, double* y, double* z,\n",
    "      // mesh origin\n",
    "    const double x0, const double y0, const double z0,\n",
    "      // mesh distances per cell\n",
    "    const double dx, const double dy, const double dz,\n",
    "      // mesh dimension (number of cells)\n",
    "    const int nx, const int ny, const int nz,\n",
    "      // scalar field defined over mesh\n",
    "    double *mesh_quantity,\n",
    "    // OUTPUTS:\n",
    "    double* particles_quantity\n",
    ") {\n",
    "    int jx, ix, kx;\n",
    "    double dxi, dyi, dzi, wijk, wi1jk, wij1k, wi1j1k, wijk1, wi1jk1, wij1k1, wi1j1k1;\n",
    "    for (int pidx = 0; pidx < nparticles; pidx++)\n",
    "    {\n",
    "        // indices\n",
    "        jx = floor((x[pidx] - x0) / dx);\n",
    "        ix = floor((y[pidx] - y0) / dy);\n",
    "        kx = floor((z[pidx] - z0) / dz);\n",
    "\n",
    "        // distances\n",
    "        dxi = x[pidx] - (x0 + jx * dx);\n",
    "        dyi = y[pidx] - (y0 + ix * dy);\n",
    "        dzi = z[pidx] - (z0 + kx * dz);\n",
    "\n",
    "        // weights\n",
    "        wijk =    (1.-dxi/dx)*(1.-dyi/dy)*(1.-dzi/dz);\n",
    "        wi1jk =   (1.-dxi/dx)*(dyi/dy)   *(1.-dzi/dz);\n",
    "        wij1k =   (dxi/dx)   *(1.-dyi/dy)*(1.-dzi/dz);\n",
    "        wi1j1k =  (dxi/dx)   *(dyi/dy)   *(1.-dzi/dz);\n",
    "        wijk1 =   (1.-dxi/dx)*(1.-dyi/dy)*(dzi/dz);\n",
    "        wi1jk1 =  (1.-dxi/dx)*(dyi/dy)   *(dzi/dz);\n",
    "        wij1k1 =  (dxi/dx)   *(1.-dyi/dy)*(dzi/dz);\n",
    "        wi1j1k1 = (dxi/dx)   *(dyi/dy)   *(dzi/dz);\n",
    "\n",
    "        if (jx >= 0 && jx < nx - 1 && ix >= 0 && ix < ny - 1 && kx >= 0 && kx < nz - 1)\n",
    "        {\n",
    "            particles_quantity[pidx] = ( wijk   * mesh_quantity[jx   + ix*nx     + kx*nx*ny]\n",
    "                                       + wij1k  * mesh_quantity[jx+1 + ix*nx     + kx*nx*ny]\n",
    "                                       + wi1jk  * mesh_quantity[jx+  + (ix+1)*nx + kx*nx*ny]\n",
    "                                       + wi1j1k * mesh_quantity[jx+1 + (ix+1)*nx + kx*nx*ny]\n",
    "                                       + wijk1  * mesh_quantity[jx   + ix*nx     + (kx+1)*nx*ny]\n",
    "                                       + wij1k1 * mesh_quantity[jx+1 + ix*nx     + (kx+1)*nx*ny]\n",
    "                                       + wi1jk1 * mesh_quantity[jx+  + (ix+1)*nx + (kx+1)*nx*ny]\n",
    "                                       + wi1j1k1* mesh_quantity[jx+1 + (ix+1)*nx + (kx+1)*nx*ny]);\n",
    "        } else {\n",
    "            particles_quantity[pidx] = 0;\n",
    "        }\n",
    "    }\n",
    "}\n",
    "\n",
    "void m2p_rectmesh3d_vector(\n",
    "    // INPUTS:\n",
    "      // length of x, y, z arrays\n",
    "    const int nparticles,\n",
    "      // particle positions\n",
    "    double* x, double* y, double* z,\n",
    "      // mesh origin\n",
    "    const double x0, const double y0, const double z0,\n",
    "      // mesh distances per cell\n",
    "    const double dx, const double dy, const double dz,\n",
    "      // mesh dimension (number of cells)\n",
    "    const int nx, const int ny, const int nz,\n",
    "      // field vector components defined over mesh\n",
    "    double* fieldx, double* fieldy, double* fieldz,\n",
    "    // OUTPUTS:\n",
    "    double* forcex, double* forcey, double* forcez\n",
    ") {\n",
    "    int jx, ix, kx;\n",
    "    double dxi, dyi, dzi, wijk, wi1jk, wij1k, wi1j1k, wijk1, wi1jk1, wij1k1, wi1j1k1;\n",
    "    for (int pidx = 0; pidx < nparticles; pidx++)\n",
    "    {\n",
    "        // indices\n",
    "        jx = floor((x[pidx] - x0) / dx);\n",
    "        ix = floor((y[pidx] - y0) / dy);\n",
    "        kx = floor((z[pidx] - z0) / dz);\n",
    "\n",
    "        // distances\n",
    "        dxi = x[pidx] - (x0 + jx * dx);\n",
    "        dyi = y[pidx] - (y0 + ix * dy);\n",
    "        dzi = z[pidx] - (z0 + kx * dz);\n",
    "\n",
    "        // weights\n",
    "        wijk =    (1.-dxi/dx)*(1.-dyi/dy)*(1.-dzi/dz);\n",
    "        wi1jk =   (1.-dxi/dx)*(dyi/dy)   *(1.-dzi/dz);\n",
    "        wij1k =   (dxi/dx)   *(1.-dyi/dy)*(1.-dzi/dz);\n",
    "        wi1j1k =  (dxi/dx)   *(dyi/dy)   *(1.-dzi/dz);\n",
    "        wijk1 =   (1.-dxi/dx)*(1.-dyi/dy)*(dzi/dz);\n",
    "        wi1jk1 =  (1.-dxi/dx)*(dyi/dy)   *(dzi/dz);\n",
    "        wij1k1 =  (dxi/dx)   *(1.-dyi/dy)*(dzi/dz);\n",
    "        wi1j1k1 = (dxi/dx)   *(dyi/dy)   *(dzi/dz);\n",
    "\n",
    "        if (jx >= 0 && jx < nx - 1 && ix >= 0 && ix < ny - 1 && kx >= 0 && kx < nz - 1)\n",
    "        {\n",
    "            forcex[pidx] = ( wijk   * fieldx[jx   + ix*nx     + kx*nx*ny]\n",
    "                           + wij1k  * fieldx[jx+1 + ix*nx     + kx*nx*ny]\n",
    "                           + wi1jk  * fieldx[jx+  + (ix+1)*nx + kx*nx*ny]\n",
    "                           + wi1j1k * fieldx[jx+1 + (ix+1)*nx + kx*nx*ny]\n",
    "                           + wijk1  * fieldx[jx   + ix*nx     + (kx+1)*nx*ny]\n",
    "                           + wij1k1 * fieldx[jx+1 + ix*nx     + (kx+1)*nx*ny]\n",
    "                           + wi1jk1 * fieldx[jx+  + (ix+1)*nx + (kx+1)*nx*ny]\n",
    "                           + wi1j1k1* fieldx[jx+1 + (ix+1)*nx + (kx+1)*nx*ny]);\n",
    "\n",
    "            forcey[pidx] = ( wijk   * fieldy[jx   + ix*nx     + kx*nx*ny]\n",
    "                           + wij1k  * fieldy[jx+1 + ix*nx     + kx*nx*ny]\n",
    "                           + wi1jk  * fieldy[jx+  + (ix+1)*nx + kx*nx*ny]\n",
    "                           + wi1j1k * fieldy[jx+1 + (ix+1)*nx + kx*nx*ny]\n",
    "                           + wijk1  * fieldy[jx   + ix*nx     + (kx+1)*nx*ny]\n",
    "                           + wij1k1 * fieldy[jx+1 + ix*nx     + (kx+1)*nx*ny]\n",
    "                           + wi1jk1 * fieldy[jx+  + (ix+1)*nx + (kx+1)*nx*ny]\n",
    "                           + wi1j1k1* fieldy[jx+1 + (ix+1)*nx + (kx+1)*nx*ny]);\n",
    "\n",
    "            forcez[pidx] = ( wijk   * fieldz[jx   + ix*nx     + kx*nx*ny]\n",
    "                           + wij1k  * fieldz[jx+1 + ix*nx     + kx*nx*ny]\n",
    "                           + wi1jk  * fieldz[jx+  + (ix+1)*nx + kx*nx*ny]\n",
    "                           + wi1j1k * fieldz[jx+1 + (ix+1)*nx + kx*nx*ny]\n",
    "                           + wijk1  * fieldz[jx   + ix*nx     + (kx+1)*nx*ny]\n",
    "                           + wij1k1 * fieldz[jx+1 + ix*nx     + (kx+1)*nx*ny]\n",
    "                           + wi1jk1 * fieldz[jx+  + (ix+1)*nx + (kx+1)*nx*ny]\n",
    "                           + wi1j1k1* fieldz[jx+1 + (ix+1)*nx + (kx+1)*nx*ny]);\n",
    "        } else {\n",
    "            forcex[pidx] = 0;\n",
    "            forcey[pidx] = 0;\n",
    "            forcez[pidx] = 0;\n",
    "        }\n",
    "    }\n",
    "}\n",
    "''')"
   ]
  },
  {
   "cell_type": "code",
   "execution_count": 45,
   "metadata": {},
   "outputs": [],
   "source": [
    "!gcc -std=c99 -O3 -fPIC -shared -o m2p_cpu.so m2p_cpu.c -lm"
   ]
  },
  {
   "cell_type": "code",
   "execution_count": 46,
   "metadata": {},
   "outputs": [],
   "source": [
    "m2p_dll = ctypes.cdll.LoadLibrary('./m2p_cpu.so')\n",
    "\n",
    "m2p_dll.m2p_rectmesh2d_scalar.restype = None\n",
    "m2p_dll.m2p_rectmesh2d_scalar.argtypes = [\n",
    "    ctypes.c_int, \n",
    "    np_double_p, np_double_p,\n",
    "    ctypes.c_double, ctypes.c_double,\n",
    "    ctypes.c_double, ctypes.c_double,\n",
    "    ctypes.c_int, ctypes.c_int,\n",
    "    np_double_p, \n",
    "    np_double_p, \n",
    "]\n",
    "\n",
    "m2p_dll.m2p_rectmesh2d_vector.restype = None\n",
    "m2p_dll.m2p_rectmesh2d_vector.argtypes = [\n",
    "    ctypes.c_int, \n",
    "    np_double_p, np_double_p,\n",
    "    ctypes.c_double, ctypes.c_double,\n",
    "    ctypes.c_double, ctypes.c_double,\n",
    "    ctypes.c_int, ctypes.c_int,\n",
    "    np_double_p, np_double_p, np_double_p,\n",
    "    np_double_p, np_double_p, np_double_p,\n",
    "]\n",
    "\n",
    "m2p_dll.m2p_rectmesh3d_scalar.restype = None\n",
    "m2p_dll.m2p_rectmesh3d_scalar.argtypes = [\n",
    "    ctypes.c_int, \n",
    "    np_double_p, np_double_p, np_double_p,\n",
    "    ctypes.c_double, ctypes.c_double, ctypes.c_double, \n",
    "    ctypes.c_double, ctypes.c_double, ctypes.c_double, \n",
    "    ctypes.c_int, ctypes.c_int, ctypes.c_int,\n",
    "    np_double_p, \n",
    "    np_double_p, \n",
    "]\n",
    "\n",
    "m2p_dll.m2p_rectmesh3d_vector.restype = None\n",
    "m2p_dll.m2p_rectmesh3d_vector.argtypes = [\n",
    "    ctypes.c_int, \n",
    "    np_double_p, np_double_p, np_double_p,\n",
    "    ctypes.c_double, ctypes.c_double, ctypes.c_double, \n",
    "    ctypes.c_double, ctypes.c_double, ctypes.c_double, \n",
    "    ctypes.c_int, ctypes.c_int, ctypes.c_int,\n",
    "    np_double_p, np_double_p, np_double_p,\n",
    "    np_double_p, np_double_p, np_double_p,\n",
    "]"
   ]
  },
  {
   "cell_type": "code",
   "execution_count": 47,
   "metadata": {},
   "outputs": [],
   "source": [
    "def m2p_cpu(self, mesh_quantity, *mp_coords, **kwargs):\n",
    "    n_macroparticles = len(mp_coords[0])\n",
    "    \n",
    "    particles_quantity = np.empty(n_macroparticles, dtype=np.float64)\n",
    "    \n",
    "    if \"RectMesh\" in str(self.mesh.__class__) and \\\n",
    "            self.mesh.dimension in [2,3]:\n",
    "        m2p_fct = getattr(\n",
    "            m2p_dll, 'm2p_rectmesh' + str(self.mesh.dimension) + 'd_scalar')\n",
    "        args = [ctypes.c_int(n_macroparticles)]\n",
    "        args += mp_coords\n",
    "        args += list(map(ctypes.c_double, self.mesh.origin))\n",
    "        args += list(map(ctypes.c_double, self.mesh.distances))\n",
    "        args += list(map(ctypes.c_int, self.mesh.shape_r))\n",
    "        args += [mesh_quantity, particles_quantity]\n",
    "\n",
    "        m2p_fct(*args)\n",
    "    else:\n",
    "        raise NotImplementedError('Only 2/3D rectangular meshes for now..')\n",
    "\n",
    "    return particles_quantity"
   ]
  },
  {
   "cell_type": "code",
   "execution_count": 48,
   "metadata": {},
   "outputs": [],
   "source": [
    "rho = p2m_cpu(cpu_pypic_algorithm, beam.x, beam.y, beam.z) / cpu_pypic_algorithm.mesh.volume_elem\n",
    "phi = cpu_pypic_algorithm.poisson_solve(rho)\n",
    "efields = cpu_pypic_algorithm.get_electric_fields(phi)"
   ]
  },
  {
   "cell_type": "code",
   "execution_count": 49,
   "metadata": {},
   "outputs": [],
   "source": [
    "res = m2p_cpu(cpu_pypic_algorithm, efields[0], beam.x, beam.y, beam.z)"
   ]
  },
  {
   "cell_type": "code",
   "execution_count": 50,
   "metadata": {},
   "outputs": [],
   "source": [
    "with GPU(beam):\n",
    "    res2 = pypic_algorithm.mesh_to_particles(gp.to_gpu(efields[0]), beam.x, beam.y, beam.z)"
   ]
  },
  {
   "cell_type": "markdown",
   "metadata": {},
   "source": [
    "relative error:"
   ]
  },
  {
   "cell_type": "code",
   "execution_count": 51,
   "metadata": {
    "scrolled": true
   },
   "outputs": [
    {
     "data": {
      "text/plain": [
       "1.7515254535777417e-14"
      ]
     },
     "execution_count": 51,
     "metadata": {},
     "output_type": "execute_result"
    }
   ],
   "source": [
    "np.max(np.abs((res - res2.get()))) / np.max(np.abs(res))"
   ]
  },
  {
   "cell_type": "code",
   "execution_count": 52,
   "metadata": {},
   "outputs": [],
   "source": [
    "def fields2p_cpu(self, *mesh_fields_and_mp_coords, **kwargs):\n",
    "    mesh_fields, mp_coords = zip(*mesh_fields_and_mp_coords)\n",
    "    \n",
    "    n_macroparticles = len(mp_coords[0])\n",
    "    \n",
    "    # field per particle\n",
    "    particle_fields = [\n",
    "        np.empty(n_macroparticles, dtype=np.float64)\n",
    "        for _ in mesh_fields]\n",
    "    \n",
    "    if \"RectMesh\" in str(self.mesh.__class__) and \\\n",
    "            self.mesh.dimension in [2,3]:\n",
    "        m2p_fct = getattr(\n",
    "            m2p_dll, 'm2p_rectmesh' + str(self.mesh.dimension) + 'd_vector')\n",
    "        args = [ctypes.c_int(n_macroparticles)]\n",
    "        args += mp_coords\n",
    "        args += list(map(ctypes.c_double, self.mesh.origin))\n",
    "        args += list(map(ctypes.c_double, self.mesh.distances))\n",
    "        args += list(map(ctypes.c_int, self.mesh.shape_r))\n",
    "        args += list(mesh_fields) + particle_fields\n",
    "\n",
    "        m2p_fct(*args)\n",
    "    else:\n",
    "        raise NotImplementedError('Only 2/3D rectangular meshes for now..')\n",
    "\n",
    "    return particle_fields"
   ]
  },
  {
   "cell_type": "code",
   "execution_count": 53,
   "metadata": {},
   "outputs": [],
   "source": [
    "cpu_args = zip(list(efields), [beam.x, beam.y, beam.z])"
   ]
  },
  {
   "cell_type": "code",
   "execution_count": 54,
   "metadata": {},
   "outputs": [],
   "source": [
    "res = fields2p_cpu(cpu_pypic_algorithm, *cpu_args)"
   ]
  },
  {
   "cell_type": "code",
   "execution_count": 55,
   "metadata": {},
   "outputs": [],
   "source": [
    "with GPU(beam):\n",
    "    gpu_args = zip(map(gp.to_gpu, efields), [beam.x, beam.y, beam.z])\n",
    "    res2 = pypic_algorithm.field_to_particles(*gpu_args)"
   ]
  },
  {
   "cell_type": "markdown",
   "metadata": {},
   "source": [
    "relative error:"
   ]
  },
  {
   "cell_type": "code",
   "execution_count": 56,
   "metadata": {
    "scrolled": true
   },
   "outputs": [
    {
     "data": {
      "text/plain": [
       "1.7515254535777417e-14"
      ]
     },
     "execution_count": 56,
     "metadata": {},
     "output_type": "execute_result"
    }
   ],
   "source": [
    "np.max(np.abs((res[0] - res2[0].get()))) / np.max(np.abs(res[0]))"
   ]
  },
  {
   "cell_type": "markdown",
   "metadata": {},
   "source": [
    "##### timing"
   ]
  },
  {
   "cell_type": "code",
   "execution_count": 57,
   "metadata": {},
   "outputs": [],
   "source": [
    "from types import MethodType"
   ]
  },
  {
   "cell_type": "code",
   "execution_count": 58,
   "metadata": {},
   "outputs": [],
   "source": [
    "cpu_pypic_algorithm_fast = PyPIC(mesh_3d, cpu_poisson_solver)\n",
    "\n",
    "cpu_pypic_algorithm_fast.particles_to_mesh = MethodType(p2m_cpu, cpu_pypic_algorithm_fast, PyPIC)\n",
    "cpu_pypic_algorithm_fast.mesh_to_particles = MethodType(m2p_cpu, cpu_pypic_algorithm_fast, PyPIC)\n",
    "cpu_pypic_algorithm_fast.field_to_particles = MethodType(fields2p_cpu, cpu_pypic_algorithm_fast, PyPIC)\n",
    "\n",
    "cpu_pic_sc_node_fast = SpaceChargePIC(sc_integration_length, cpu_pypic_algorithm_fast)"
   ]
  },
  {
   "cell_type": "code",
   "execution_count": 59,
   "metadata": {},
   "outputs": [
    {
     "name": "stdout",
     "output_type": "stream",
     "text": [
      " "
     ]
    }
   ],
   "source": [
    "with CPU(beam):\n",
    "    routput_cpu = %%prun -r cpu_pic_sc_node_fast.track(beam)"
   ]
  },
  {
   "cell_type": "code",
   "execution_count": 60,
   "metadata": {},
   "outputs": [
    {
     "name": "stdout",
     "output_type": "stream",
     "text": [
      "         137 function calls in 1.455 seconds\n",
      "\n",
      "   Ordered by: cumulative time\n",
      "   List reduced from 46 to 20 due to restriction <20>\n",
      "\n",
      "   ncalls  tottime  percall  cumtime  percall filename:lineno(function)\n",
      "        1    0.000    0.000    1.455    1.455 <string>:1(<module>)\n",
      "        1    0.131    0.131    1.455    1.455 pypic_spacecharge.py:82(track)\n",
      "        1    0.065    0.065    1.323    1.323 pypic.py:172(pic_solve)\n",
      "        1    0.000    0.000    0.805    0.805 pypic.py:108(poisson_solve)\n",
      "        1    0.346    0.346    0.805    0.805 <ipython-input-29-edcac8237c54>:45(poisson_solve)\n",
      "        1    0.306    0.306    0.306    0.306 {method 'fill' of 'numpy.ndarray' objects}\n",
      "        1    0.000    0.000    0.255    0.255 pypic.py:116(get_electric_fields)\n",
      "        1    0.051    0.051    0.255    0.255 gradient.py:71(_gradient)\n",
      "        1    0.204    0.204    0.204    0.204 function_base.py:738(gradient)\n",
      "        1    0.109    0.109    0.109    0.109 <ipython-input-52-b90f1764ba40>:1(fields2p_cpu)\n",
      "        1    0.000    0.000    0.079    0.079 _numpy_fft.py:73(fft)\n",
      "        1    0.079    0.079    0.079    0.079 {mkl_fft._pydfti.fft}\n",
      "        1    0.000    0.000    0.075    0.075 _numpy_fft.py:164(ifft)\n",
      "        1    0.075    0.075    0.075    0.075 {mkl_fft._pydfti.ifft}\n",
      "        1    0.069    0.069    0.075    0.075 <ipython-input-40-1d1421d4bc96>:1(p2m_cpu)\n",
      "        4    0.020    0.005    0.020    0.005 {method 'flatten' of 'numpy.ndarray' objects}\n",
      "        1    0.001    0.001    0.001    0.001 particles.py:107(z_beamframe)\n",
      "       13    0.000    0.000    0.000    0.000 ctypeslib.py:196(from_param)\n",
      "        6    0.000    0.000    0.000    0.000 fromnumeric.py:2651(ndim)\n",
      "        3    0.000    0.000    0.000    0.000 {numpy.core.multiarray.empty_like}\n",
      "\n",
      "\n"
     ]
    },
    {
     "data": {
      "text/plain": [
       "<pstats.Stats instance at 0x7f644952ac20>"
      ]
     },
     "execution_count": 60,
     "metadata": {},
     "output_type": "execute_result"
    }
   ],
   "source": [
    "routput_cpu.sort_stats(2).print_stats(20)"
   ]
  },
  {
   "cell_type": "markdown",
   "metadata": {},
   "source": [
    "GPU (Tesla C2075) version: 0.180s\n",
    "\n",
    "- p2m: 0.019s\n",
    "- solve: 0.141s\n",
    "- m2p: 0.000s\n",
    "\n",
    "fast CPU version: 0.568s\n",
    "\n",
    "- p2m: 0.106s\n",
    "- solve: 0.234s\n",
    "- m2p: 0.139s"
   ]
  },
  {
   "cell_type": "markdown",
   "metadata": {},
   "source": [
    "### results"
   ]
  },
  {
   "cell_type": "code",
   "execution_count": 65,
   "metadata": {},
   "outputs": [],
   "source": [
    "xp0 = beam.xp.copy()\n",
    "with GPU(beam):\n",
    "    pic_sc_node.track(beam)\n",
    "xp_gpu = beam.xp - xp0"
   ]
  },
  {
   "cell_type": "code",
   "execution_count": 66,
   "metadata": {},
   "outputs": [
    {
     "data": {
      "text/plain": [
       "(-2.6538455235629245e-07, 2.650363786111258e-07)"
      ]
     },
     "execution_count": 66,
     "metadata": {},
     "output_type": "execute_result"
    },
    {
     "data": {
      "image/png": "[encoded data removed]",
      "text/plain": [
       "<Figure size 432x288 with 1 Axes>"
      ]
     },
     "metadata": {
      "needs_background": "light"
     },
     "output_type": "display_data"
    }
   ],
   "source": [
    "plt.scatter(beam.x[::100], xp_gpu[::100])\n",
    "plt.ylim(xp_gpu.min() * 1.1, xp_gpu.max() * 1.1)"
   ]
  },
  {
   "cell_type": "code",
   "execution_count": 67,
   "metadata": {},
   "outputs": [],
   "source": [
    "xp0 = beam.xp.copy()\n",
    "with CPU(beam):\n",
    "    cpu_pic_sc_node_fast.track(beam)\n",
    "xp_cpu = beam.xp - xp0"
   ]
  },
  {
   "cell_type": "code",
   "execution_count": 68,
   "metadata": {
    "scrolled": true
   },
   "outputs": [
    {
     "data": {
      "text/plain": [
       "(-9.554396119756948e-17, 9.606573349307813e-17)"
      ]
     },
     "execution_count": 68,
     "metadata": {},
     "output_type": "execute_result"
    },
    {
     "data": {
      "image/png": "[encoded data removed]",
      "text/plain": [
       "<Figure size 432x288 with 1 Axes>"
      ]
     },
     "metadata": {
      "needs_background": "light"
     },
     "output_type": "display_data"
    }
   ],
   "source": [
    "plt.scatter(beam.x[::100], xp_cpu[::100])\n",
    "plt.ylim(xp_cpu.min() * 1.1, xp_cpu.max() * 1.1)"
   ]
  },
  {
   "cell_type": "markdown",
   "metadata": {},
   "source": [
    "$\\implies$ don't forget, solving on CPU is still wrong, bug somewhere..."
   ]
  },
  {
   "cell_type": "markdown",
   "metadata": {},
   "source": [
    "### why is the GPU solve so slow?"
   ]
  },
  {
   "cell_type": "code",
   "execution_count": 91,
   "metadata": {},
   "outputs": [],
   "source": [
    "rho = p2m_cpu(cpu_pypic_algorithm, beam.x, beam.y, beam.z) / cpu_pypic_algorithm.mesh.volume_elem\n",
    "rho_gpu = gp.to_gpu(rho)"
   ]
  },
  {
   "cell_type": "code",
   "execution_count": 92,
   "metadata": {},
   "outputs": [
    {
     "name": "stdout",
     "output_type": "stream",
     "text": [
      " "
     ]
    }
   ],
   "source": [
    "with CPU(beam):\n",
    "    routput_gpu = %%prun -r pypic_algorithm.poisson_solve(rho_gpu)"
   ]
  },
  {
   "cell_type": "code",
   "execution_count": 100,
   "metadata": {},
   "outputs": [
    {
     "name": "stdout",
     "output_type": "stream",
     "text": [
      "         189 function calls in 0.144 seconds\n",
      "\n",
      "   Ordered by: cumulative time\n",
      "\n",
      "   ncalls  tottime  percall  cumtime  percall filename:lineno(function)\n",
      "        1    0.000    0.000    0.144    0.144 <string>:1(<module>)\n",
      "        1    0.001    0.001    0.144    0.144 pypic.py:536(poisson_solve)\n",
      "        1    0.138    0.138    0.143    0.143 FFT_solver.py:155(poisson_solve)\n",
      "        4    0.000    0.000    0.003    0.001 gpuarray.py:412(_new_like_me)\n",
      "        4    0.003    0.001    0.003    0.001 gpuarray.py:162(__init__)\n",
      "        2    0.000    0.000    0.002    0.001 contextmanager.py:82(_patch_binop)\n",
      "        1    0.000    0.000    0.002    0.002 gpuarray.py:485(__mul__)\n",
      "        1    0.000    0.000    0.001    0.001 gpuarray.py:723(astype)\n",
      "        2    0.000    0.000    0.001    0.001 fft.py:169(_fft)\n",
      "        2    0.001    0.000    0.001    0.000 cufft.py:368(cufftExecZ2Z)\n",
      "        1    0.000    0.000    0.001    0.001 fft.py:220(fft)\n",
      "        1    0.000    0.000    0.000    0.000 gpuarray.py:961(real)\n",
      "        6    0.000    0.000    0.000    0.000 driver.py:493(function_prepared_async_call)\n",
      "        1    0.000    0.000    0.000    0.000 gpuarray.py:503(__div__)\n",
      "        1    0.000    0.000    0.000    0.000 fft.py:272(ifft)\n",
      "        2    0.000    0.000    0.000    0.000 gpuarray.py:19(_get_common_dtype)\n",
      "        2    0.000    0.000    0.000    0.000 gpuarray.py:351(_axpbz)\n",
      "        5    0.000    0.000    0.000    0.000 __init__.py:589(wrapper)\n",
      "        1    0.000    0.000    0.000    0.000 gpuarray.py:547(fill)\n",
      "        2    0.000    0.000    0.000    0.000 array.py:76(get_common_dtype)\n",
      "        4    0.000    0.000    0.000    0.000 gpuarray.py:109(splay)\n",
      "        3    0.000    0.000    0.000    0.000 gpuarray.py:225(flags)\n",
      "        1    0.000    0.000    0.000    0.000 contextmanager.py:57(_patch)\n",
      "        1    0.000    0.000    0.000    0.000 gpuarray.py:365(_elwise_multiply)\n",
      "        3    0.000    0.000    0.000    0.000 array.py:68(__init__)\n",
      "        1    0.000    0.000    0.000    0.000 gpuarray.py:497(__imul__)\n",
      "        6    0.000    0.000    0.000    0.000 tools.py:414(context_dependent_memoize)\n",
      "        6    0.000    0.000    0.000    0.000 {pycuda._pvt_struct.pack}\n",
      "        4    0.000    0.000    0.000    0.000 <decorator-gen-152>:1(_splay_backend)\n",
      "        2    0.000    0.000    0.000    0.000 characterize.py:21(has_double_support)\n",
      "        4    0.000    0.000    0.000    0.000 __init__.py:545(_deco)\n",
      "        3    0.000    0.000    0.000    0.000 array.py:59(is_f_contiguous_strides)\n",
      "        5    0.000    0.000    0.000    0.000 array.py:38(c_contiguous_strides)\n",
      "        1    0.000    0.000    0.000    0.000 <decorator-gen-127>:1(get_copy_kernel)\n",
      "        3    0.000    0.000    0.000    0.000 array.py:63(is_c_contiguous_strides)\n",
      "        6    0.000    0.000    0.000    0.000 array.py:48(equal_strides)\n",
      "        4    0.000    0.000    0.000    0.000 {numpy.core.multiarray.zeros}\n",
      "        1    0.000    0.000    0.000    0.000 type_check.py:468(asscalar)\n",
      "       16    0.000    0.000    0.000    0.000 {isinstance}\n",
      "        1    0.000    0.000    0.000    0.000 <decorator-gen-135>:1(get_fill_kernel)\n",
      "        1    0.000    0.000    0.000    0.000 <decorator-gen-131>:1(get_binary_op_kernel)\n",
      "        2    0.000    0.000    0.000    0.000 <decorator-gen-130>:1(get_axpbz_kernel)\n",
      "        3    0.000    0.000    0.000    0.000 array.py:28(f_contiguous_strides)\n",
      "        1    0.000    0.000    0.000    0.000 {method 'item' of 'numpy.generic' objects}\n",
      "        5    0.000    0.000    0.000    0.000 {getattr}\n",
      "        1    0.000    0.000    0.000    0.000 __init__.py:1844(match_precision)\n",
      "        1    0.000    0.000    0.000    0.000 <decorator-gen-137>:1(get_real_kernel)\n",
      "        6    0.000    0.000    0.000    0.000 {zip}\n",
      "        2    0.000    0.000    0.000    0.000 cufft.py:107(cufftCheckStatus)\n",
      "       16    0.000    0.000    0.000    0.000 {method 'append' of 'list' objects}\n",
      "       24    0.000    0.000    0.000    0.000 {len}\n",
      "        6    0.000    0.000    0.000    0.000 {method 'pop' of 'dict' objects}\n",
      "        3    0.000    0.000    0.000    0.000 {setattr}\n",
      "        1    0.000    0.000    0.000    0.000 {issubclass}\n",
      "        1    0.000    0.000    0.000    0.000 {method 'disable' of '_lsprof.Profiler' objects}\n",
      "\n",
      "\n"
     ]
    },
    {
     "data": {
      "text/plain": [
       "<pstats.Stats instance at 0x7f6cf2a51518>"
      ]
     },
     "execution_count": 100,
     "metadata": {},
     "output_type": "execute_result"
    }
   ],
   "source": [
    "routput_gpu.sort_stats(2).print_stats()"
   ]
  },
  {
   "cell_type": "markdown",
   "metadata": {},
   "source": [
    ".\n",
    "\n",
    ".\n",
    "\n",
    ".\n",
    "\n",
    "."
   ]
  },
  {
   "cell_type": "code",
   "execution_count": 33,
   "metadata": {},
   "outputs": [],
   "source": [
    "machine.install_after_each_transverse_segment(pic_sc_node)"
   ]
  },
  {
   "cell_type": "code",
   "execution_count": 35,
   "metadata": {},
   "outputs": [],
   "source": [
    "transv_one_turn_map = [el for el in machine.one_turn_map if el is not machine.longitudinal_map]"
   ]
  },
  {
   "cell_type": "code",
   "execution_count": 36,
   "metadata": {},
   "outputs": [],
   "source": [
    "n_turns = 128"
   ]
  },
  {
   "cell_type": "code",
   "execution_count": null,
   "metadata": {},
   "outputs": [],
   "source": [
    "# with contextmanager(beam):\n",
    "#     for _ in range(n_turns):\n",
    "#         for el in transv_one_turn_map:\n",
    "#             el.track(beam)\n",
    "#         pmonitor.dump(beam)"
   ]
  }
 ],
 "metadata": {
  "kernelspec": {
   "display_name": "Python 2",
   "language": "python",
   "name": "python2"
  },
  "language_info": {
   "codemirror_mode": {
    "name": "ipython",
    "version": 2
   },
   "file_extension": ".py",
   "mimetype": "text/x-python",
   "name": "python",
   "nbconvert_exporter": "python",
   "pygments_lexer": "ipython2",
   "version": "2.7.15"
  }
 },
 "nbformat": 4,
 "nbformat_minor": 2
}
